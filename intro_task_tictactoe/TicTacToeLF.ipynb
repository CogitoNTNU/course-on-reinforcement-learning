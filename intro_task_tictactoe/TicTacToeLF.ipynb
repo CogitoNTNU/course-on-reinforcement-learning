{
 "cells": [
  {
   "cell_type": "markdown",
   "id": "f63b47a466f03969",
   "metadata": {
    "collapsed": false,
    "jupyter": {
     "outputs_hidden": false
    }
   },
   "source": [
    "# TicTacToe"
   ]
  },
  {
   "cell_type": "markdown",
   "id": "99586f2b-90d8-429f-b9c7-c0a61c335148",
   "metadata": {},
   "source": [
    "Vi skal nå se på hvordan vi kan bruke TD læring til å trene en agent til å spille TicTacToe"
   ]
  },
  {
   "cell_type": "code",
   "execution_count": 1,
   "id": "cef40968-2905-4c7a-b720-7e0e7b9b527c",
   "metadata": {},
   "outputs": [],
   "source": [
    "import os\n",
    "import sys\n",
    "sys.path.append(os.getcwd())"
   ]
  },
  {
   "cell_type": "code",
   "execution_count": 2,
   "id": "c4b7abe90321a681",
   "metadata": {
    "ExecuteTime": {
     "end_time": "2024-02-13T12:54:01.578086871Z",
     "start_time": "2024-02-13T12:54:01.305649271Z"
    },
    "collapsed": false,
    "jupyter": {
     "outputs_hidden": false
    }
   },
   "outputs": [],
   "source": [
    "%matplotlib inline\n",
    "import numpy as np\n",
    "import pickle\n",
    "from State import all_states\n",
    "from TicTacEnv import TicTacEnv\n",
    "import matplotlib.pyplot as plt"
   ]
  },
  {
   "cell_type": "markdown",
   "id": "2e9ac885-a2a9-4fed-af63-67ac8959b42c",
   "metadata": {},
   "source": [
    "Tic Tac Toe er ferdig implementert, men vi har lyst på mulighet til å spille selv"
   ]
  },
  {
   "cell_type": "code",
   "execution_count": 3,
   "id": "2bf3a4b4983078fe",
   "metadata": {
    "ExecuteTime": {
     "end_time": "2024-02-13T12:51:14.838593023Z",
     "start_time": "2024-02-13T12:51:14.835438283Z"
    },
    "collapsed": false,
    "jupyter": {
     "outputs_hidden": false
    }
   },
   "outputs": [],
   "source": [
    "class HumanAgent:\n",
    "\n",
    "    def __init__(self, **kwargs):\n",
    "        self.symbol = None\n",
    "        self.keys = ['q', 'w', 'e', 'a', 's', 'd', 'z', 'x', 'c']\n",
    "        self.state = None\n",
    "\n",
    "    def reset(self):\n",
    "        pass\n",
    "\n",
    "    def set_state(self, state):\n",
    "        self.state = state\n",
    "\n",
    "    def set_symbol(self, symbol):\n",
    "        self.symbol = symbol\n",
    "\n",
    "    def act(self):\n",
    "        self.state.render()\n",
    "        key = input(\"Input your position:\")\n",
    "        data = self.keys.index(key)\n",
    "        i = data // 3\n",
    "        j = data % 3\n",
    "        return i, j, self.symbol"
   ]
  },
  {
   "cell_type": "markdown",
   "id": "6caf5c6230dc96e4",
   "metadata": {
    "collapsed": false,
    "jupyter": {
     "outputs_hidden": false
    }
   },
   "source": [
    "Det er ofte også nyttig med mulighet for tilfeldige handlinger"
   ]
  },
  {
   "cell_type": "code",
   "execution_count": 4,
   "id": "b992a8cd60d9b77c",
   "metadata": {
    "ExecuteTime": {
     "end_time": "2024-02-13T12:51:15.753331985Z",
     "start_time": "2024-02-13T12:51:15.739431721Z"
    },
    "collapsed": false,
    "jupyter": {
     "outputs_hidden": false
    }
   },
   "outputs": [],
   "source": [
    "def get_random_move(state, symbol):\n",
    "    next_states = []\n",
    "    next_positions = []\n",
    "    for i in range(3):\n",
    "        for j in range(3):\n",
    "            if state.board[i, j] == 0:\n",
    "                next_positions.append([i, j])\n",
    "                next_states.append(state.next_state(i, j, symbol).hash())\n",
    "    \n",
    "    action = next_positions[np.random.randint(len(next_positions))]\n",
    "    action.append(symbol)\n",
    "    return action\n",
    "    "
   ]
  },
  {
   "cell_type": "markdown",
   "id": "38cb69cf-ba37-4814-b133-051ddd3d721e",
   "metadata": {},
   "source": [
    "Vi lager en agent som kan spille tilfeldig"
   ]
  },
  {
   "cell_type": "code",
   "execution_count": 5,
   "id": "761e2b55e1132c41",
   "metadata": {
    "ExecuteTime": {
     "end_time": "2024-02-13T12:51:16.236496163Z",
     "start_time": "2024-02-13T12:51:16.233228967Z"
    },
    "collapsed": false,
    "jupyter": {
     "outputs_hidden": false
    }
   },
   "outputs": [],
   "source": [
    "class RandomAgent:\n",
    "    def __init__(self, **kwargs):\n",
    "        self.symbol = None\n",
    "        self.state = None\n",
    "        \n",
    "    def reset(self):\n",
    "        pass\n",
    "\n",
    "    def set_state(self, state):\n",
    "        self.state = state\n",
    "\n",
    "    def set_symbol(self, symbol):\n",
    "        self.symbol = symbol\n",
    "\n",
    "    def act(self):\n",
    "        return get_random_move(self.state, self.symbol)"
   ]
  },
  {
   "cell_type": "markdown",
   "id": "e28f9271-9ae7-4995-bdf6-8e08f69d6708",
   "metadata": {},
   "source": [
    "Og mulighet til å spille mot tifleldig agenten som spiller tilfeldig"
   ]
  },
  {
   "cell_type": "code",
   "execution_count": 6,
   "id": "3c1b5f70ff0825a",
   "metadata": {
    "ExecuteTime": {
     "end_time": "2024-02-13T12:51:16.812713203Z",
     "start_time": "2024-02-13T12:51:16.806487106Z"
    },
    "collapsed": false,
    "jupyter": {
     "outputs_hidden": false
    }
   },
   "outputs": [],
   "source": [
    "def play():\n",
    "    for i in range(2):\n",
    "        # Load agents\n",
    "        player1 = HumanAgent()\n",
    "        player2 = RandomAgent()\n",
    "        # Load environment\n",
    "        env = TicTacEnv(player1, player2)\n",
    "        # Play the game\n",
    "        winner = env.play()\n",
    "        if winner == player2.symbol:\n",
    "            print(\"You lose!\")\n",
    "        elif winner == player1.symbol:\n",
    "            print(\"You win!\")\n",
    "        else:\n",
    "            print(\"It is a tie!\")"
   ]
  },
  {
   "cell_type": "markdown",
   "id": "75a62745-52fa-4938-97d0-b2fcbd34e892",
   "metadata": {},
   "source": [
    "Show the random agent what you are made of!"
   ]
  },
  {
   "cell_type": "code",
   "execution_count": 7,
   "id": "7f459d82caf7c37a",
   "metadata": {
    "ExecuteTime": {
     "end_time": "2024-02-13T12:51:33.846657521Z",
     "start_time": "2024-02-13T12:51:17.376174518Z"
    },
    "collapsed": false,
    "jupyter": {
     "outputs_hidden": false
    }
   },
   "outputs": [
    {
     "name": "stdout",
     "output_type": "stream",
     "text": [
      "-------------\n",
      "| 0 | 0 | 0 | \n",
      "-------------\n",
      "| 0 | 0 | 0 | \n",
      "-------------\n",
      "| 0 | 0 | 0 | \n",
      "-------------\n"
     ]
    },
    {
     "name": "stdin",
     "output_type": "stream",
     "text": [
      "Input your position: s\n"
     ]
    },
    {
     "name": "stdout",
     "output_type": "stream",
     "text": [
      "-------------\n",
      "| 0 | 0 | x | \n",
      "-------------\n",
      "| 0 | * | 0 | \n",
      "-------------\n",
      "| 0 | 0 | 0 | \n",
      "-------------\n"
     ]
    },
    {
     "name": "stdin",
     "output_type": "stream",
     "text": [
      "Input your position: w\n"
     ]
    },
    {
     "name": "stdout",
     "output_type": "stream",
     "text": [
      "-------------\n",
      "| 0 | * | x | \n",
      "-------------\n",
      "| 0 | * | 0 | \n",
      "-------------\n",
      "| 0 | x | 0 | \n",
      "-------------\n"
     ]
    },
    {
     "name": "stdin",
     "output_type": "stream",
     "text": [
      "Input your position: c\n"
     ]
    },
    {
     "name": "stdout",
     "output_type": "stream",
     "text": [
      "-------------\n",
      "| 0 | * | x | \n",
      "-------------\n",
      "| 0 | * | 0 | \n",
      "-------------\n",
      "| x | x | * | \n",
      "-------------\n"
     ]
    },
    {
     "name": "stdin",
     "output_type": "stream",
     "text": [
      "Input your position: q\n"
     ]
    },
    {
     "name": "stdout",
     "output_type": "stream",
     "text": [
      "You win!\n",
      "-------------\n",
      "| 0 | 0 | 0 | \n",
      "-------------\n",
      "| 0 | 0 | 0 | \n",
      "-------------\n",
      "| 0 | 0 | 0 | \n",
      "-------------\n"
     ]
    },
    {
     "ename": "KeyboardInterrupt",
     "evalue": "Interrupted by user",
     "output_type": "error",
     "traceback": [
      "\u001b[0;31m---------------------------------------------------------------------------\u001b[0m",
      "\u001b[0;31mKeyboardInterrupt\u001b[0m                         Traceback (most recent call last)",
      "Cell \u001b[0;32mIn[7], line 1\u001b[0m\n\u001b[0;32m----> 1\u001b[0m \u001b[43mplay\u001b[49m\u001b[43m(\u001b[49m\u001b[43m)\u001b[49m\n",
      "Cell \u001b[0;32mIn[6], line 9\u001b[0m, in \u001b[0;36mplay\u001b[0;34m()\u001b[0m\n\u001b[1;32m      7\u001b[0m env \u001b[38;5;241m=\u001b[39m TicTacEnv(player1, player2)\n\u001b[1;32m      8\u001b[0m \u001b[38;5;66;03m# Play the game\u001b[39;00m\n\u001b[0;32m----> 9\u001b[0m winner \u001b[38;5;241m=\u001b[39m \u001b[43menv\u001b[49m\u001b[38;5;241;43m.\u001b[39;49m\u001b[43mplay\u001b[49m\u001b[43m(\u001b[49m\u001b[43m)\u001b[49m\n\u001b[1;32m     10\u001b[0m \u001b[38;5;28;01mif\u001b[39;00m winner \u001b[38;5;241m==\u001b[39m player2\u001b[38;5;241m.\u001b[39msymbol:\n\u001b[1;32m     11\u001b[0m     \u001b[38;5;28mprint\u001b[39m(\u001b[38;5;124m\"\u001b[39m\u001b[38;5;124mYou lose!\u001b[39m\u001b[38;5;124m\"\u001b[39m)\n",
      "File \u001b[0;32m~/Code/Cogito/RL-Intro/TicTacToe/TicTacEnv.py:35\u001b[0m, in \u001b[0;36mTicTacEnv.play\u001b[0;34m(self, print_state)\u001b[0m\n\u001b[1;32m     33\u001b[0m \u001b[38;5;28;01mwhile\u001b[39;00m \u001b[38;5;28;01mTrue\u001b[39;00m:\n\u001b[1;32m     34\u001b[0m     player \u001b[38;5;241m=\u001b[39m \u001b[38;5;28mnext\u001b[39m(alternator)\n\u001b[0;32m---> 35\u001b[0m     i, j, symbol \u001b[38;5;241m=\u001b[39m \u001b[43mplayer\u001b[49m\u001b[38;5;241;43m.\u001b[39;49m\u001b[43mact\u001b[49m\u001b[43m(\u001b[49m\u001b[43m)\u001b[49m\n\u001b[1;32m     36\u001b[0m     next_state_hash \u001b[38;5;241m=\u001b[39m current_state\u001b[38;5;241m.\u001b[39mnext_state(i, j, symbol)\u001b[38;5;241m.\u001b[39mhash()\n\u001b[1;32m     37\u001b[0m     current_state, is_end \u001b[38;5;241m=\u001b[39m all_states[next_state_hash]\n",
      "Cell \u001b[0;32mIn[3], line 19\u001b[0m, in \u001b[0;36mHumanAgent.act\u001b[0;34m(self)\u001b[0m\n\u001b[1;32m     17\u001b[0m \u001b[38;5;28;01mdef\u001b[39;00m \u001b[38;5;21mact\u001b[39m(\u001b[38;5;28mself\u001b[39m):\n\u001b[1;32m     18\u001b[0m     \u001b[38;5;28mself\u001b[39m\u001b[38;5;241m.\u001b[39mstate\u001b[38;5;241m.\u001b[39mrender()\n\u001b[0;32m---> 19\u001b[0m     key \u001b[38;5;241m=\u001b[39m \u001b[38;5;28;43minput\u001b[39;49m\u001b[43m(\u001b[49m\u001b[38;5;124;43m\"\u001b[39;49m\u001b[38;5;124;43mInput your position:\u001b[39;49m\u001b[38;5;124;43m\"\u001b[39;49m\u001b[43m)\u001b[49m\n\u001b[1;32m     20\u001b[0m     data \u001b[38;5;241m=\u001b[39m \u001b[38;5;28mself\u001b[39m\u001b[38;5;241m.\u001b[39mkeys\u001b[38;5;241m.\u001b[39mindex(key)\n\u001b[1;32m     21\u001b[0m     i \u001b[38;5;241m=\u001b[39m data \u001b[38;5;241m/\u001b[39m\u001b[38;5;241m/\u001b[39m \u001b[38;5;241m3\u001b[39m\n",
      "File \u001b[0;32m~/PhD/ProbAI/probai-2023-private/venv/lib/python3.10/site-packages/ipykernel/kernelbase.py:1191\u001b[0m, in \u001b[0;36mKernel.raw_input\u001b[0;34m(self, prompt)\u001b[0m\n\u001b[1;32m   1189\u001b[0m     msg \u001b[38;5;241m=\u001b[39m \u001b[38;5;124m\"\u001b[39m\u001b[38;5;124mraw_input was called, but this frontend does not support input requests.\u001b[39m\u001b[38;5;124m\"\u001b[39m\n\u001b[1;32m   1190\u001b[0m     \u001b[38;5;28;01mraise\u001b[39;00m StdinNotImplementedError(msg)\n\u001b[0;32m-> 1191\u001b[0m \u001b[38;5;28;01mreturn\u001b[39;00m \u001b[38;5;28;43mself\u001b[39;49m\u001b[38;5;241;43m.\u001b[39;49m\u001b[43m_input_request\u001b[49m\u001b[43m(\u001b[49m\n\u001b[1;32m   1192\u001b[0m \u001b[43m    \u001b[49m\u001b[38;5;28;43mstr\u001b[39;49m\u001b[43m(\u001b[49m\u001b[43mprompt\u001b[49m\u001b[43m)\u001b[49m\u001b[43m,\u001b[49m\n\u001b[1;32m   1193\u001b[0m \u001b[43m    \u001b[49m\u001b[38;5;28;43mself\u001b[39;49m\u001b[38;5;241;43m.\u001b[39;49m\u001b[43m_parent_ident\u001b[49m\u001b[43m[\u001b[49m\u001b[38;5;124;43m\"\u001b[39;49m\u001b[38;5;124;43mshell\u001b[39;49m\u001b[38;5;124;43m\"\u001b[39;49m\u001b[43m]\u001b[49m\u001b[43m,\u001b[49m\n\u001b[1;32m   1194\u001b[0m \u001b[43m    \u001b[49m\u001b[38;5;28;43mself\u001b[39;49m\u001b[38;5;241;43m.\u001b[39;49m\u001b[43mget_parent\u001b[49m\u001b[43m(\u001b[49m\u001b[38;5;124;43m\"\u001b[39;49m\u001b[38;5;124;43mshell\u001b[39;49m\u001b[38;5;124;43m\"\u001b[39;49m\u001b[43m)\u001b[49m\u001b[43m,\u001b[49m\n\u001b[1;32m   1195\u001b[0m \u001b[43m    \u001b[49m\u001b[43mpassword\u001b[49m\u001b[38;5;241;43m=\u001b[39;49m\u001b[38;5;28;43;01mFalse\u001b[39;49;00m\u001b[43m,\u001b[49m\n\u001b[1;32m   1196\u001b[0m \u001b[43m\u001b[49m\u001b[43m)\u001b[49m\n",
      "File \u001b[0;32m~/PhD/ProbAI/probai-2023-private/venv/lib/python3.10/site-packages/ipykernel/kernelbase.py:1234\u001b[0m, in \u001b[0;36mKernel._input_request\u001b[0;34m(self, prompt, ident, parent, password)\u001b[0m\n\u001b[1;32m   1231\u001b[0m \u001b[38;5;28;01mexcept\u001b[39;00m \u001b[38;5;167;01mKeyboardInterrupt\u001b[39;00m:\n\u001b[1;32m   1232\u001b[0m     \u001b[38;5;66;03m# re-raise KeyboardInterrupt, to truncate traceback\u001b[39;00m\n\u001b[1;32m   1233\u001b[0m     msg \u001b[38;5;241m=\u001b[39m \u001b[38;5;124m\"\u001b[39m\u001b[38;5;124mInterrupted by user\u001b[39m\u001b[38;5;124m\"\u001b[39m\n\u001b[0;32m-> 1234\u001b[0m     \u001b[38;5;28;01mraise\u001b[39;00m \u001b[38;5;167;01mKeyboardInterrupt\u001b[39;00m(msg) \u001b[38;5;28;01mfrom\u001b[39;00m \u001b[38;5;28;01mNone\u001b[39;00m\n\u001b[1;32m   1235\u001b[0m \u001b[38;5;28;01mexcept\u001b[39;00m \u001b[38;5;167;01mException\u001b[39;00m:\n\u001b[1;32m   1236\u001b[0m     \u001b[38;5;28mself\u001b[39m\u001b[38;5;241m.\u001b[39mlog\u001b[38;5;241m.\u001b[39mwarning(\u001b[38;5;124m\"\u001b[39m\u001b[38;5;124mInvalid Message:\u001b[39m\u001b[38;5;124m\"\u001b[39m, exc_info\u001b[38;5;241m=\u001b[39m\u001b[38;5;28;01mTrue\u001b[39;00m)\n",
      "\u001b[0;31mKeyboardInterrupt\u001b[0m: Interrupted by user"
     ]
    }
   ],
   "source": [
    "play()"
   ]
  },
  {
   "cell_type": "markdown",
   "id": "ef9df1cb-ed00-4275-99b8-c3aa6fa91010",
   "metadata": {},
   "source": [
    "Lets play the random agent against itself"
   ]
  },
  {
   "cell_type": "code",
   "execution_count": 8,
   "id": "8912d3b3875710a8",
   "metadata": {
    "ExecuteTime": {
     "start_time": "2024-02-13T12:47:03.275755660Z"
    },
    "collapsed": false,
    "jupyter": {
     "outputs_hidden": false
    }
   },
   "outputs": [],
   "source": [
    "def compete(turns):\n",
    "    player1 = RandomAgent()\n",
    "    player2 = RandomAgent()\n",
    "    env = TicTacEnv(player1, player2)\n",
    "    player1_win = 0.0\n",
    "    player2_win = 0.0\n",
    "    tie = 0.0\n",
    "    for _ in range(turns):\n",
    "        winner = env.play()\n",
    "        if winner == 1:\n",
    "            player1_win += 1\n",
    "        elif winner == -1:\n",
    "            player2_win += 1\n",
    "        else:\n",
    "            tie += 1\n",
    "        env.reset()\n",
    "    print('%d turns, player 1 win %.02f, player 2 win %.02f, tied %.02f'% (turns, player1_win / turns, player2_win / turns, tie / turns))"
   ]
  },
  {
   "cell_type": "code",
   "execution_count": 9,
   "id": "dfba8fb1-4045-4375-b278-07ef32ded4da",
   "metadata": {},
   "outputs": [
    {
     "name": "stdout",
     "output_type": "stream",
     "text": [
      "100 turns, player 1 win 0.61, player 2 win 0.24, tied 0.15\n"
     ]
    }
   ],
   "source": [
    "compete(100)"
   ]
  },
  {
   "cell_type": "markdown",
   "id": "001c3acf-085a-4a48-b8cb-e53bf5f57cdf",
   "metadata": {},
   "source": [
    "How did it do? Was it what you would expect?"
   ]
  },
  {
   "cell_type": "markdown",
   "id": "0e53a667-6241-45aa-bbf6-574d39d5e1f1",
   "metadata": {},
   "source": [
    "## RL agent\n",
    "\n",
    "This is where most of your code will go.\n",
    "\n",
    "Fill inn all the TODOs\n",
    "Feel free to ask questions"
   ]
  },
  {
   "cell_type": "code",
   "execution_count": 10,
   "id": "bcdbbe75-3184-40a7-8920-56476306f10e",
   "metadata": {},
   "outputs": [],
   "source": [
    "class Agent:\n",
    "\n",
    "    def __init__(self, learning_rate=0.1, epsilon=0.1):\n",
    "        self.value_table = dict()\n",
    "        self.learning_rate = learning_rate\n",
    "        self.epsilon = epsilon\n",
    "        self.states = []\n",
    "        self.greedy = []\n",
    "        self.symbol = 0\n",
    "\n",
    "    def reset(self):\n",
    "        # Reset the agents so its ready for a new episode\n",
    "        self.states = []\n",
    "        self.greedy = []\n",
    "\n",
    "    def set_state(self, state):\n",
    "        self.states.append(state)\n",
    "        self.greedy.append(True)\n",
    "\n",
    "    def set_symbol(self, symbol):\n",
    "        # Set the symbol the agent will use\n",
    "        self.symbol = symbol\n",
    "        for hash_val in all_states:\n",
    "            state, is_end = all_states[hash_val]\n",
    "            if is_end:\n",
    "                if state.winner == self.symbol:\n",
    "                    self.value_table[hash_val] = 1.0\n",
    "                elif state.winner == 0:\n",
    "                    # we need to distinguish between a tie and a lose\n",
    "                    self.value_table[hash_val] = 0.5\n",
    "                else:\n",
    "                    self.value_table[hash_val] = 0\n",
    "            else:\n",
    "                self.value_table[hash_val] = 0.5\n",
    "\n",
    "    def backup(self):\n",
    "        # Back up the values we have encountered\n",
    "        states = [state.hash() for state in self.states]\n",
    "\n",
    "        for i in reversed(range(len(states) - 1)):\n",
    "            # For each state we want to compute the TD error or \"Surprise\" of the system\n",
    "            state = states[i]\n",
    "            td_error = self.greedy[i] * (self.value_table[states[i + 1]] - self.value_table[state])\n",
    "            self.value_table[state] += self.learning_rate * td_error\n",
    "\n",
    "    def act(self):\n",
    "        # Selecting an action for the agent to performe\n",
    "        state = self.states[-1]\n",
    "        next_states = []\n",
    "        next_positions = []\n",
    "        for i in range(3):\n",
    "            for j in range(3):\n",
    "                if state.board[i, j] == 0:\n",
    "                    next_positions.append([i, j])\n",
    "                    next_states.append(state.next_state(i, j, self.symbol).hash())\n",
    "\n",
    "        # If we have random less than epsilon we select an action randomly\n",
    "        if np.random.rand() < self.epsilon:\n",
    "            action = next_positions[np.random.randint(len(next_positions))]\n",
    "            action.append(self.symbol)\n",
    "            self.greedy[-1] = False\n",
    "            return action\n",
    "\n",
    "        # Find our values for the next states\n",
    "        values = []\n",
    "        for hash_val, pos in zip(next_states, next_positions):\n",
    "            values.append((self.value_table[hash_val], pos))\n",
    "\n",
    "        # Lets sort all next states in decreasing value order\n",
    "        np.random.shuffle(values)\n",
    "        values.sort(key=lambda x: x[0], reverse=True)\n",
    "        action = values[0][1]\n",
    "        action.append(self.symbol)\n",
    "        # Return action that leads to the next state with highest value\n",
    "        return action\n",
    "\n",
    "    # It is very usefull to save our policy when we are done training\n",
    "    def save_policy(self):\n",
    "        with open('policy_%s.bin' % ('first' if self.symbol == 1 else 'second'), 'wb') as f:\n",
    "            pickle.dump(self.value_table, f)\n",
    "\n",
    "    # Likewise it is nice to be able to load our policy again\n",
    "    def load_policy(self):\n",
    "        with open('policy_%s.bin' % ('first' if self.symbol == 1 else 'second'), 'rb') as f:\n",
    "            self.value_table = pickle.load(f)"
   ]
  },
  {
   "cell_type": "markdown",
   "id": "5dd033ea-d085-4c0a-8829-232676d0c16a",
   "metadata": {},
   "source": [
    "Now that we have the agent, we need to train it to play the game\n",
    "Again fill in the TODOs"
   ]
  },
  {
   "cell_type": "code",
   "execution_count": 11,
   "id": "59e3bd26-6a91-415d-9f04-0f5ee3e096c3",
   "metadata": {},
   "outputs": [],
   "source": [
    "class Trainer:\n",
    "\n",
    "    @staticmethod\n",
    "    def train(epochs, print_interval=500):\n",
    "        # Initialize the agents\n",
    "        p1 = Agent(epsilon=0.01)\n",
    "        p2 = Agent(epsilon=0.01)\n",
    "\n",
    "        # Initialize the environment\n",
    "        env = TicTacEnv(p1, p2)\n",
    "        p1_wins = 0\n",
    "        p2_wins = 0\n",
    "\n",
    "        p1_100 = 0\n",
    "        p2_100 = 0\n",
    "        p1_history = []\n",
    "        p2_history = []\n",
    "        tie_history = []\n",
    "\n",
    "        # for each episode\n",
    "        for i in range(1, epochs + 1):\n",
    "            # Play a round and append the results\n",
    "            winner = env.play(print_state=False)\n",
    "            if winner == 1:\n",
    "                p1_wins += 1\n",
    "                p1_100 += 1\n",
    "            if winner == -1:\n",
    "                p2_wins += 1\n",
    "                p2_100 += 1\n",
    "            # Print ocationaly\n",
    "            if i % print_interval == 0:\n",
    "                print('Epoch %d, player 1 winrate: %.02f, player 2 winrate: %.02f' % (\n",
    "                    i, p1_wins / i, p2_wins / i))\n",
    "            if i % 250 == 0:\n",
    "                p1_history.append(p1_100 / 250)\n",
    "                p2_history.append(p2_100 / 250)\n",
    "                tie_history.append((250 - p1_100 - p2_100) / 250)\n",
    "                p1_100 = 0\n",
    "                p2_100 = 0\n",
    "\n",
    "            # Train our agents\n",
    "            p1.backup()\n",
    "            p2.backup()\n",
    "\n",
    "            # Reset the envoronment\n",
    "            env.reset()\n",
    "\n",
    "        # Save the policies\n",
    "        p1.save_policy()\n",
    "        p2.save_policy()\n",
    "\n",
    "        # Plot the training hisory\n",
    "        plt.plot(p1_history, label=\"p1\")\n",
    "        plt.plot(p2_history, label=\"p2\")\n",
    "        plt.plot(tie_history, label=\"tie\")\n",
    "        plt.legend()\n",
    "        plt.show()"
   ]
  },
  {
   "cell_type": "code",
   "execution_count": 12,
   "id": "972edea6-4473-428d-8e57-534c702a4c70",
   "metadata": {},
   "outputs": [
    {
     "name": "stdout",
     "output_type": "stream",
     "text": [
      "Epoch 100, player 1 winrate: 0.70, player 2 winrate: 0.23\n",
      "Epoch 200, player 1 winrate: 0.47, player 2 winrate: 0.12\n",
      "Epoch 300, player 1 winrate: 0.33, player 2 winrate: 0.09\n",
      "Epoch 400, player 1 winrate: 0.26, player 2 winrate: 0.07\n",
      "Epoch 500, player 1 winrate: 0.23, player 2 winrate: 0.06\n",
      "Epoch 600, player 1 winrate: 0.19, player 2 winrate: 0.05\n",
      "Epoch 700, player 1 winrate: 0.17, player 2 winrate: 0.04\n",
      "Epoch 800, player 1 winrate: 0.16, player 2 winrate: 0.05\n",
      "Epoch 900, player 1 winrate: 0.15, player 2 winrate: 0.05\n",
      "Epoch 1000, player 1 winrate: 0.14, player 2 winrate: 0.04\n",
      "Epoch 1100, player 1 winrate: 0.14, player 2 winrate: 0.04\n",
      "Epoch 1200, player 1 winrate: 0.13, player 2 winrate: 0.04\n",
      "Epoch 1300, player 1 winrate: 0.12, player 2 winrate: 0.04\n",
      "Epoch 1400, player 1 winrate: 0.12, player 2 winrate: 0.04\n",
      "Epoch 1500, player 1 winrate: 0.11, player 2 winrate: 0.04\n",
      "Epoch 1600, player 1 winrate: 0.12, player 2 winrate: 0.04\n",
      "Epoch 1700, player 1 winrate: 0.11, player 2 winrate: 0.04\n",
      "Epoch 1800, player 1 winrate: 0.14, player 2 winrate: 0.06\n",
      "Epoch 1900, player 1 winrate: 0.13, player 2 winrate: 0.05\n",
      "Epoch 2000, player 1 winrate: 0.13, player 2 winrate: 0.06\n",
      "Epoch 2100, player 1 winrate: 0.12, player 2 winrate: 0.05\n",
      "Epoch 2200, player 1 winrate: 0.12, player 2 winrate: 0.05\n",
      "Epoch 2300, player 1 winrate: 0.12, player 2 winrate: 0.05\n",
      "Epoch 2400, player 1 winrate: 0.11, player 2 winrate: 0.05\n",
      "Epoch 2500, player 1 winrate: 0.11, player 2 winrate: 0.05\n",
      "Epoch 2600, player 1 winrate: 0.11, player 2 winrate: 0.04\n",
      "Epoch 2700, player 1 winrate: 0.11, player 2 winrate: 0.04\n",
      "Epoch 2800, player 1 winrate: 0.10, player 2 winrate: 0.04\n",
      "Epoch 2900, player 1 winrate: 0.11, player 2 winrate: 0.04\n",
      "Epoch 3000, player 1 winrate: 0.12, player 2 winrate: 0.05\n",
      "Epoch 3100, player 1 winrate: 0.11, player 2 winrate: 0.05\n",
      "Epoch 3200, player 1 winrate: 0.11, player 2 winrate: 0.05\n",
      "Epoch 3300, player 1 winrate: 0.11, player 2 winrate: 0.05\n",
      "Epoch 3400, player 1 winrate: 0.11, player 2 winrate: 0.05\n",
      "Epoch 3500, player 1 winrate: 0.10, player 2 winrate: 0.04\n",
      "Epoch 3600, player 1 winrate: 0.10, player 2 winrate: 0.04\n",
      "Epoch 3700, player 1 winrate: 0.10, player 2 winrate: 0.04\n",
      "Epoch 3800, player 1 winrate: 0.10, player 2 winrate: 0.04\n",
      "Epoch 3900, player 1 winrate: 0.10, player 2 winrate: 0.04\n",
      "Epoch 4000, player 1 winrate: 0.10, player 2 winrate: 0.04\n",
      "Epoch 4100, player 1 winrate: 0.10, player 2 winrate: 0.04\n",
      "Epoch 4200, player 1 winrate: 0.10, player 2 winrate: 0.04\n",
      "Epoch 4300, player 1 winrate: 0.10, player 2 winrate: 0.04\n",
      "Epoch 4400, player 1 winrate: 0.10, player 2 winrate: 0.04\n",
      "Epoch 4500, player 1 winrate: 0.10, player 2 winrate: 0.04\n",
      "Epoch 4600, player 1 winrate: 0.09, player 2 winrate: 0.04\n",
      "Epoch 4700, player 1 winrate: 0.09, player 2 winrate: 0.04\n",
      "Epoch 4800, player 1 winrate: 0.09, player 2 winrate: 0.04\n",
      "Epoch 4900, player 1 winrate: 0.09, player 2 winrate: 0.04\n",
      "Epoch 5000, player 1 winrate: 0.09, player 2 winrate: 0.04\n",
      "Epoch 5100, player 1 winrate: 0.09, player 2 winrate: 0.04\n",
      "Epoch 5200, player 1 winrate: 0.09, player 2 winrate: 0.04\n",
      "Epoch 5300, player 1 winrate: 0.09, player 2 winrate: 0.04\n",
      "Epoch 5400, player 1 winrate: 0.09, player 2 winrate: 0.04\n",
      "Epoch 5500, player 1 winrate: 0.09, player 2 winrate: 0.04\n",
      "Epoch 5600, player 1 winrate: 0.09, player 2 winrate: 0.04\n",
      "Epoch 5700, player 1 winrate: 0.09, player 2 winrate: 0.04\n",
      "Epoch 5800, player 1 winrate: 0.09, player 2 winrate: 0.04\n",
      "Epoch 5900, player 1 winrate: 0.09, player 2 winrate: 0.04\n",
      "Epoch 6000, player 1 winrate: 0.09, player 2 winrate: 0.04\n",
      "Epoch 6100, player 1 winrate: 0.09, player 2 winrate: 0.04\n",
      "Epoch 6200, player 1 winrate: 0.09, player 2 winrate: 0.04\n",
      "Epoch 6300, player 1 winrate: 0.09, player 2 winrate: 0.04\n",
      "Epoch 6400, player 1 winrate: 0.09, player 2 winrate: 0.04\n",
      "Epoch 6500, player 1 winrate: 0.09, player 2 winrate: 0.04\n",
      "Epoch 6600, player 1 winrate: 0.09, player 2 winrate: 0.04\n",
      "Epoch 6700, player 1 winrate: 0.09, player 2 winrate: 0.04\n",
      "Epoch 6800, player 1 winrate: 0.09, player 2 winrate: 0.04\n",
      "Epoch 6900, player 1 winrate: 0.09, player 2 winrate: 0.04\n",
      "Epoch 7000, player 1 winrate: 0.09, player 2 winrate: 0.04\n",
      "Epoch 7100, player 1 winrate: 0.09, player 2 winrate: 0.04\n",
      "Epoch 7200, player 1 winrate: 0.08, player 2 winrate: 0.04\n",
      "Epoch 7300, player 1 winrate: 0.08, player 2 winrate: 0.04\n",
      "Epoch 7400, player 1 winrate: 0.08, player 2 winrate: 0.04\n",
      "Epoch 7500, player 1 winrate: 0.08, player 2 winrate: 0.04\n",
      "Epoch 7600, player 1 winrate: 0.08, player 2 winrate: 0.04\n",
      "Epoch 7700, player 1 winrate: 0.08, player 2 winrate: 0.04\n",
      "Epoch 7800, player 1 winrate: 0.08, player 2 winrate: 0.04\n",
      "Epoch 7900, player 1 winrate: 0.08, player 2 winrate: 0.04\n",
      "Epoch 8000, player 1 winrate: 0.08, player 2 winrate: 0.04\n",
      "Epoch 8100, player 1 winrate: 0.08, player 2 winrate: 0.04\n",
      "Epoch 8200, player 1 winrate: 0.08, player 2 winrate: 0.04\n",
      "Epoch 8300, player 1 winrate: 0.08, player 2 winrate: 0.04\n",
      "Epoch 8400, player 1 winrate: 0.08, player 2 winrate: 0.04\n",
      "Epoch 8500, player 1 winrate: 0.08, player 2 winrate: 0.04\n",
      "Epoch 8600, player 1 winrate: 0.08, player 2 winrate: 0.04\n",
      "Epoch 8700, player 1 winrate: 0.08, player 2 winrate: 0.04\n",
      "Epoch 8800, player 1 winrate: 0.08, player 2 winrate: 0.04\n",
      "Epoch 8900, player 1 winrate: 0.08, player 2 winrate: 0.04\n",
      "Epoch 9000, player 1 winrate: 0.08, player 2 winrate: 0.04\n",
      "Epoch 9100, player 1 winrate: 0.08, player 2 winrate: 0.04\n",
      "Epoch 9200, player 1 winrate: 0.08, player 2 winrate: 0.04\n",
      "Epoch 9300, player 1 winrate: 0.08, player 2 winrate: 0.04\n",
      "Epoch 9400, player 1 winrate: 0.07, player 2 winrate: 0.04\n",
      "Epoch 9500, player 1 winrate: 0.07, player 2 winrate: 0.03\n",
      "Epoch 9600, player 1 winrate: 0.07, player 2 winrate: 0.03\n",
      "Epoch 9700, player 1 winrate: 0.07, player 2 winrate: 0.03\n",
      "Epoch 9800, player 1 winrate: 0.07, player 2 winrate: 0.03\n",
      "Epoch 9900, player 1 winrate: 0.07, player 2 winrate: 0.03\n",
      "Epoch 10000, player 1 winrate: 0.07, player 2 winrate: 0.03\n",
      "Epoch 10100, player 1 winrate: 0.07, player 2 winrate: 0.03\n",
      "Epoch 10200, player 1 winrate: 0.07, player 2 winrate: 0.03\n",
      "Epoch 10300, player 1 winrate: 0.07, player 2 winrate: 0.03\n",
      "Epoch 10400, player 1 winrate: 0.07, player 2 winrate: 0.03\n",
      "Epoch 10500, player 1 winrate: 0.07, player 2 winrate: 0.03\n",
      "Epoch 10600, player 1 winrate: 0.07, player 2 winrate: 0.03\n",
      "Epoch 10700, player 1 winrate: 0.07, player 2 winrate: 0.03\n",
      "Epoch 10800, player 1 winrate: 0.07, player 2 winrate: 0.03\n",
      "Epoch 10900, player 1 winrate: 0.07, player 2 winrate: 0.03\n",
      "Epoch 11000, player 1 winrate: 0.07, player 2 winrate: 0.03\n",
      "Epoch 11100, player 1 winrate: 0.07, player 2 winrate: 0.03\n",
      "Epoch 11200, player 1 winrate: 0.07, player 2 winrate: 0.03\n",
      "Epoch 11300, player 1 winrate: 0.07, player 2 winrate: 0.03\n",
      "Epoch 11400, player 1 winrate: 0.07, player 2 winrate: 0.03\n",
      "Epoch 11500, player 1 winrate: 0.07, player 2 winrate: 0.03\n",
      "Epoch 11600, player 1 winrate: 0.07, player 2 winrate: 0.03\n",
      "Epoch 11700, player 1 winrate: 0.07, player 2 winrate: 0.03\n",
      "Epoch 11800, player 1 winrate: 0.07, player 2 winrate: 0.03\n",
      "Epoch 11900, player 1 winrate: 0.07, player 2 winrate: 0.03\n",
      "Epoch 12000, player 1 winrate: 0.07, player 2 winrate: 0.03\n",
      "Epoch 12100, player 1 winrate: 0.07, player 2 winrate: 0.03\n",
      "Epoch 12200, player 1 winrate: 0.07, player 2 winrate: 0.03\n",
      "Epoch 12300, player 1 winrate: 0.07, player 2 winrate: 0.03\n",
      "Epoch 12400, player 1 winrate: 0.07, player 2 winrate: 0.03\n",
      "Epoch 12500, player 1 winrate: 0.07, player 2 winrate: 0.03\n",
      "Epoch 12600, player 1 winrate: 0.07, player 2 winrate: 0.03\n",
      "Epoch 12700, player 1 winrate: 0.06, player 2 winrate: 0.03\n",
      "Epoch 12800, player 1 winrate: 0.06, player 2 winrate: 0.03\n",
      "Epoch 12900, player 1 winrate: 0.06, player 2 winrate: 0.03\n",
      "Epoch 13000, player 1 winrate: 0.06, player 2 winrate: 0.03\n",
      "Epoch 13100, player 1 winrate: 0.06, player 2 winrate: 0.03\n",
      "Epoch 13200, player 1 winrate: 0.06, player 2 winrate: 0.03\n",
      "Epoch 13300, player 1 winrate: 0.06, player 2 winrate: 0.03\n",
      "Epoch 13400, player 1 winrate: 0.06, player 2 winrate: 0.03\n",
      "Epoch 13500, player 1 winrate: 0.06, player 2 winrate: 0.03\n",
      "Epoch 13600, player 1 winrate: 0.06, player 2 winrate: 0.03\n",
      "Epoch 13700, player 1 winrate: 0.06, player 2 winrate: 0.03\n",
      "Epoch 13800, player 1 winrate: 0.06, player 2 winrate: 0.03\n",
      "Epoch 13900, player 1 winrate: 0.06, player 2 winrate: 0.03\n",
      "Epoch 14000, player 1 winrate: 0.06, player 2 winrate: 0.03\n",
      "Epoch 14100, player 1 winrate: 0.06, player 2 winrate: 0.03\n",
      "Epoch 14200, player 1 winrate: 0.06, player 2 winrate: 0.03\n",
      "Epoch 14300, player 1 winrate: 0.06, player 2 winrate: 0.03\n",
      "Epoch 14400, player 1 winrate: 0.06, player 2 winrate: 0.03\n",
      "Epoch 14500, player 1 winrate: 0.06, player 2 winrate: 0.03\n",
      "Epoch 14600, player 1 winrate: 0.06, player 2 winrate: 0.03\n",
      "Epoch 14700, player 1 winrate: 0.06, player 2 winrate: 0.03\n",
      "Epoch 14800, player 1 winrate: 0.06, player 2 winrate: 0.03\n",
      "Epoch 14900, player 1 winrate: 0.06, player 2 winrate: 0.03\n",
      "Epoch 15000, player 1 winrate: 0.06, player 2 winrate: 0.03\n",
      "Epoch 15100, player 1 winrate: 0.06, player 2 winrate: 0.03\n",
      "Epoch 15200, player 1 winrate: 0.06, player 2 winrate: 0.03\n",
      "Epoch 15300, player 1 winrate: 0.06, player 2 winrate: 0.03\n",
      "Epoch 15400, player 1 winrate: 0.06, player 2 winrate: 0.03\n",
      "Epoch 15500, player 1 winrate: 0.06, player 2 winrate: 0.03\n",
      "Epoch 15600, player 1 winrate: 0.06, player 2 winrate: 0.03\n",
      "Epoch 15700, player 1 winrate: 0.06, player 2 winrate: 0.03\n",
      "Epoch 15800, player 1 winrate: 0.06, player 2 winrate: 0.03\n",
      "Epoch 15900, player 1 winrate: 0.06, player 2 winrate: 0.02\n",
      "Epoch 16000, player 1 winrate: 0.06, player 2 winrate: 0.02\n",
      "Epoch 16100, player 1 winrate: 0.06, player 2 winrate: 0.02\n",
      "Epoch 16200, player 1 winrate: 0.06, player 2 winrate: 0.02\n",
      "Epoch 16300, player 1 winrate: 0.06, player 2 winrate: 0.02\n",
      "Epoch 16400, player 1 winrate: 0.06, player 2 winrate: 0.02\n",
      "Epoch 16500, player 1 winrate: 0.06, player 2 winrate: 0.02\n",
      "Epoch 16600, player 1 winrate: 0.06, player 2 winrate: 0.02\n",
      "Epoch 16700, player 1 winrate: 0.06, player 2 winrate: 0.02\n",
      "Epoch 16800, player 1 winrate: 0.06, player 2 winrate: 0.02\n",
      "Epoch 16900, player 1 winrate: 0.05, player 2 winrate: 0.02\n",
      "Epoch 17000, player 1 winrate: 0.05, player 2 winrate: 0.02\n",
      "Epoch 17100, player 1 winrate: 0.05, player 2 winrate: 0.02\n",
      "Epoch 17200, player 1 winrate: 0.05, player 2 winrate: 0.02\n",
      "Epoch 17300, player 1 winrate: 0.05, player 2 winrate: 0.02\n",
      "Epoch 17400, player 1 winrate: 0.05, player 2 winrate: 0.02\n",
      "Epoch 17500, player 1 winrate: 0.05, player 2 winrate: 0.02\n",
      "Epoch 17600, player 1 winrate: 0.05, player 2 winrate: 0.02\n",
      "Epoch 17700, player 1 winrate: 0.05, player 2 winrate: 0.02\n",
      "Epoch 17800, player 1 winrate: 0.05, player 2 winrate: 0.02\n",
      "Epoch 17900, player 1 winrate: 0.05, player 2 winrate: 0.02\n",
      "Epoch 18000, player 1 winrate: 0.05, player 2 winrate: 0.02\n",
      "Epoch 18100, player 1 winrate: 0.05, player 2 winrate: 0.02\n",
      "Epoch 18200, player 1 winrate: 0.05, player 2 winrate: 0.02\n",
      "Epoch 18300, player 1 winrate: 0.05, player 2 winrate: 0.02\n",
      "Epoch 18400, player 1 winrate: 0.05, player 2 winrate: 0.02\n",
      "Epoch 18500, player 1 winrate: 0.05, player 2 winrate: 0.02\n",
      "Epoch 18600, player 1 winrate: 0.05, player 2 winrate: 0.02\n",
      "Epoch 18700, player 1 winrate: 0.05, player 2 winrate: 0.02\n",
      "Epoch 18800, player 1 winrate: 0.05, player 2 winrate: 0.02\n",
      "Epoch 18900, player 1 winrate: 0.05, player 2 winrate: 0.02\n",
      "Epoch 19000, player 1 winrate: 0.05, player 2 winrate: 0.02\n",
      "Epoch 19100, player 1 winrate: 0.05, player 2 winrate: 0.02\n",
      "Epoch 19200, player 1 winrate: 0.05, player 2 winrate: 0.02\n",
      "Epoch 19300, player 1 winrate: 0.05, player 2 winrate: 0.02\n",
      "Epoch 19400, player 1 winrate: 0.05, player 2 winrate: 0.02\n",
      "Epoch 19500, player 1 winrate: 0.05, player 2 winrate: 0.02\n",
      "Epoch 19600, player 1 winrate: 0.05, player 2 winrate: 0.02\n",
      "Epoch 19700, player 1 winrate: 0.05, player 2 winrate: 0.02\n",
      "Epoch 19800, player 1 winrate: 0.05, player 2 winrate: 0.02\n",
      "Epoch 19900, player 1 winrate: 0.05, player 2 winrate: 0.02\n",
      "Epoch 20000, player 1 winrate: 0.05, player 2 winrate: 0.02\n"
     ]
    },
    {
     "data": {
      "image/png": "[encoded data removed]",
      "text/plain": [
       "<Figure size 640x480 with 1 Axes>"
      ]
     },
     "metadata": {},
     "output_type": "display_data"
    }
   ],
   "source": [
    "Trainer.train(20000, print_interval=100)"
   ]
  },
  {
   "cell_type": "markdown",
   "id": "7258978f-181c-4468-905f-316438f97692",
   "metadata": {},
   "source": [
    "Lets test the two agents agains eachother"
   ]
  },
  {
   "cell_type": "code",
   "execution_count": 13,
   "id": "ee7f4034-a335-4e4a-a4ed-fef3ddd289d0",
   "metadata": {},
   "outputs": [],
   "source": [
    "def compete(turns):\n",
    "    player1 = Agent(epsilon=0)\n",
    "    player2 = Agent(epsilon=0)\n",
    "    env = TicTacEnv(player1, player2)\n",
    "    player1.load_policy()\n",
    "    player2.load_policy()\n",
    "    player1_win = 0.0\n",
    "    player2_win = 0.0\n",
    "    for _ in range(turns):\n",
    "        winner = env.play()\n",
    "        if winner == 1:\n",
    "            player1_win += 1\n",
    "        if winner == -1:\n",
    "            player2_win += 1\n",
    "        env.reset()\n",
    "    print('%d turns, player 1 win %.02f, player 2 win %.02f' % (turns, player1_win / turns, player2_win / turns))\n"
   ]
  },
  {
   "cell_type": "code",
   "execution_count": 14,
   "id": "a9a32c4c-0d76-427f-a29b-689aa6521ff1",
   "metadata": {},
   "outputs": [
    {
     "name": "stdout",
     "output_type": "stream",
     "text": [
      "1000 turns, player 1 win 0.00, player 2 win 0.00\n"
     ]
    }
   ],
   "source": [
    "compete(int(1e3))"
   ]
  },
  {
   "cell_type": "markdown",
   "id": "79c1f345-d1b9-47f1-8a9d-5eddc5ed0fa9",
   "metadata": {},
   "source": [
    "How did it go? Did it play as expected?\n",
    "\n",
    "Play against it yourself!"
   ]
  },
  {
   "cell_type": "code",
   "execution_count": 15,
   "id": "101d898c-139c-4254-8191-13e8d018025d",
   "metadata": {},
   "outputs": [],
   "source": [
    "def play():\n",
    "    for i in range(2):\n",
    "        player1 = HumanAgent()\n",
    "        player2 = Agent(epsilon=0)\n",
    "        env = TicTacEnv(player1, player2)\n",
    "        player2.load_policy()\n",
    "        winner = env.play()\n",
    "        if winner == player2.symbol:\n",
    "            print(\"You lose!\")\n",
    "        elif winner == player1.symbol:\n",
    "            print(\"You win!\")\n",
    "        else:\n",
    "            print(\"It is a tie!\")"
   ]
  },
  {
   "cell_type": "code",
   "execution_count": null,
   "id": "6a0d1bee-c724-4a1e-ae75-9d64f4ed98a3",
   "metadata": {},
   "outputs": [
    {
     "name": "stdout",
     "output_type": "stream",
     "text": [
      "-------------\n",
      "| 0 | 0 | 0 | \n",
      "-------------\n",
      "| 0 | 0 | 0 | \n",
      "-------------\n",
      "| 0 | 0 | 0 | \n",
      "-------------\n"
     ]
    },
    {
     "name": "stdin",
     "output_type": "stream",
     "text": [
      "Input your position: s\n"
     ]
    },
    {
     "name": "stdout",
     "output_type": "stream",
     "text": [
      "-------------\n",
      "| x | 0 | 0 | \n",
      "-------------\n",
      "| 0 | * | 0 | \n",
      "-------------\n",
      "| 0 | 0 | 0 | \n",
      "-------------\n"
     ]
    },
    {
     "name": "stdin",
     "output_type": "stream",
     "text": [
      "Input your position: w\n"
     ]
    },
    {
     "name": "stdout",
     "output_type": "stream",
     "text": [
      "-------------\n",
      "| x | * | 0 | \n",
      "-------------\n",
      "| 0 | * | 0 | \n",
      "-------------\n",
      "| 0 | x | 0 | \n",
      "-------------\n"
     ]
    },
    {
     "name": "stdin",
     "output_type": "stream",
     "text": [
      "Input your position: z\n"
     ]
    },
    {
     "name": "stdout",
     "output_type": "stream",
     "text": [
      "-------------\n",
      "| x | * | x | \n",
      "-------------\n",
      "| 0 | * | 0 | \n",
      "-------------\n",
      "| * | x | 0 | \n",
      "-------------\n"
     ]
    },
    {
     "name": "stdin",
     "output_type": "stream",
     "text": [
      "Input your position: c\n"
     ]
    },
    {
     "name": "stdout",
     "output_type": "stream",
     "text": [
      "-------------\n",
      "| x | * | x | \n",
      "-------------\n",
      "| 0 | * | x | \n",
      "-------------\n",
      "| * | x | * | \n",
      "-------------\n"
     ]
    },
    {
     "name": "stdin",
     "output_type": "stream",
     "text": [
      "Input your position: a\n"
     ]
    },
    {
     "name": "stdout",
     "output_type": "stream",
     "text": [
      "It is a tie!\n",
      "-------------\n",
      "| 0 | 0 | 0 | \n",
      "-------------\n",
      "| 0 | 0 | 0 | \n",
      "-------------\n",
      "| 0 | 0 | 0 | \n",
      "-------------\n"
     ]
    }
   ],
   "source": [
    "play()"
   ]
  },
  {
   "cell_type": "markdown",
   "id": "d7858f39-8603-4647-8e2a-caae300ad461",
   "metadata": {},
   "source": [
    "Done?\n",
    "\n",
    "Try to train if for longer, shorter."
   ]
  }
 ],
 "metadata": {
  "kernelspec": {
   "display_name": "venv",
   "language": "python",
   "name": "venv"
  },
  "language_info": {
   "codemirror_mode": {
    "name": "ipython",
    "version": 3
   },
   "file_extension": ".py",
   "mimetype": "text/x-python",
   "name": "python",
   "nbconvert_exporter": "python",
   "pygments_lexer": "ipython3",
   "version": "3.10.12"
  }
 },
 "nbformat": 4,
 "nbformat_minor": 5
}
